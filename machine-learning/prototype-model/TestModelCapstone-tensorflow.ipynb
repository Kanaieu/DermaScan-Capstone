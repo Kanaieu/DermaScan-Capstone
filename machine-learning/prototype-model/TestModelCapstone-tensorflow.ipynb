{
  "cells": [
    {
      "cell_type": "code",
      "execution_count": null,
      "metadata": {
        "id": "0kMo5Jl8huxc"
      },
      "outputs": [],
      "source": [
        "import os\n",
        "import matplotlib.pyplot as plt\n",
        "import numpy as np\n",
        "import pandas as pd\n",
        "import tensorflow as tf\n",
        "from tensorflow.keras.applications import ResNet50\n",
        "from tensorflow.keras import layers, models, optimizers\n",
        "from tensorflow.keras.preprocessing.image import ImageDataGenerator\n",
        "from tensorflow.keras.callbacks import ReduceLROnPlateau, ModelCheckpoint, EarlyStopping\n",
        "from tqdm.notebook import tqdm\n",
        "from sklearn.metrics import confusion_matrix, classification_report"
      ]
    },
    {
      "cell_type": "code",
      "execution_count": null,
      "metadata": {
        "id": "QRfaserah3VU"
      },
      "outputs": [],
      "source": [
        "from google.colab import files\n",
        "files.upload()"
      ]
    },
    {
      "cell_type": "code",
      "execution_count": null,
      "metadata": {
        "id": "-HDf5E65iHSs"
      },
      "outputs": [],
      "source": [
        "!rm -rf flowers/\n",
        "!mkdir -p ~/.kaggle\n",
        "!cp kaggle.json ~/.kaggle/\n",
        "!chmod 600 ~/.kaggle/kaggle.json"
      ]
    },
    {
      "cell_type": "code",
      "execution_count": null,
      "metadata": {
        "id": "DLESk-AAiNcM"
      },
      "outputs": [],
      "source": [
        "!kaggle datasets download -d pacificrm/skindiseasedataset\n",
        "!unzip SkinDisease.zip"
      ]
    },
    {
      "cell_type": "code",
      "execution_count": null,
      "metadata": {
        "id": "BxxZ0bxkhz-i"
      },
      "outputs": [],
      "source": [
        "train_dir = \"/SkinDisease/SkinDisease/train\"\n",
        "test_dir = \"/SkinDisease/SkinDisease/test\""
      ]
    },
    {
      "cell_type": "code",
      "execution_count": null,
      "metadata": {
        "id": "NBGIGAm6juzW"
      },
      "outputs": [],
      "source": [
        "classes = [\n",
        "    \"Acne\", \"Actinic Keratosis\", \"Benign Tumors\", \"Bullous\", \"Candidiasis\",\n",
        "    \"Drug Eruption\", \"Eczema\", \"Infestations/Bites\", \"Lichen\", \"Lupus\",\n",
        "    \"Moles\", \"Psoriasis\", \"Rosacea\", \"Seborrheic Keratoses\", \"Skin Cancer\",\n",
        "    \"Sun/Sunlight Damage\", \"Tinea\", \"Unknown/Normal\", \"Vascular Tumors\",\n",
        "    \"Vasculitis\", \"Vitiligo\", \"Warts\"\n",
        "]"
      ]
    },
    {
      "cell_type": "code",
      "execution_count": null,
      "metadata": {
        "id": "UtK_XzjJjwwy"
      },
      "outputs": [],
      "source": [
        "train_datagen = ImageDataGenerator(\n",
        "    rescale=1.0/255,\n",
        "    rotation_range=15,\n",
        "    horizontal_flip=True,\n",
        "    validation_split=0.2\n",
        ")\n",
        "\n",
        "val_datagen = ImageDataGenerator(\n",
        "    rescale=1.0/255,\n",
        "    validation_split=0.2\n",
        ")\n",
        "\n",
        "test_datagen = ImageDataGenerator(rescale=1.0/255)"
      ]
    },
    {
      "cell_type": "code",
      "execution_count": null,
      "metadata": {
        "id": "5lGmrXkkjzU1"
      },
      "outputs": [],
      "source": [
        "train_generator = train_datagen.flow_from_directory(\n",
        "    train_dir,\n",
        "    target_size=(224, 224),\n",
        "    batch_size=32,\n",
        "    class_mode='categorical',\n",
        "    subset='training'\n",
        ")\n",
        "\n",
        "val_generator = val_datagen.flow_from_directory(\n",
        "    train_dir,\n",
        "    target_size=(224, 224),\n",
        "    batch_size=32,\n",
        "    class_mode='categorical',\n",
        "    subset='validation'\n",
        ")\n",
        "\n",
        "test_generator = test_datagen.flow_from_directory(\n",
        "    test_dir,\n",
        "    target_size=(224, 224),\n",
        "    batch_size=32,\n",
        "    class_mode='categorical'\n",
        ")"
      ]
    },
    {
      "cell_type": "code",
      "execution_count": null,
      "metadata": {},
      "outputs": [],
      "source": [
        "print(f\"Number of training samples: {train_generator.samples}\")\n",
        "print(f\"Number of validation samples: {val_generator.samples}\")\n",
        "print(f\"Number of testing samples: {test_generator.samples}\")"
      ]
    },
    {
      "cell_type": "code",
      "execution_count": null,
      "metadata": {
        "id": "_6Hgj3S9kCnp"
      },
      "outputs": [],
      "source": [
        "def show_images(generator, classes, num_images=8):\n",
        "    images, labels = next(generator)\n",
        "    images = images[:num_images]\n",
        "    labels = labels[:num_images]\n",
        "\n",
        "    fig, axes = plt.subplots(1, num_images, figsize=(15, 5))\n",
        "    for i in range(num_images):\n",
        "        axes[i].imshow(images[i])\n",
        "        axes[i].set_title(classes[np.argmax(labels[i])])\n",
        "        axes[i].axis('off')\n",
        "    plt.show()"
      ]
    },
    {
      "cell_type": "code",
      "execution_count": null,
      "metadata": {
        "id": "2aBg2THXkFdt"
      },
      "outputs": [],
      "source": [
        "show_images(train_generator, classes)"
      ]
    },
    {
      "cell_type": "code",
      "execution_count": null,
      "metadata": {
        "id": "Huqq_vdKkGz8"
      },
      "outputs": [],
      "source": [
        "# def residual_block(x, filters, stride=1, use_dropout=False):\n",
        "#     shortcut = x\n",
        "#     x = layers.Conv2D(filters, kernel_size=3, strides=stride, padding='same')(x)\n",
        "#     x = layers.BatchNormalization()(x)\n",
        "#     x = layers.ReLU()(x)\n",
        "#     x = layers.Conv2D(filters, kernel_size=3, strides=1, padding='same')(x)\n",
        "#     x = layers.BatchNormalization()(x)\n",
        "#     if use_dropout:\n",
        "#         x = layers.Dropout(0.5)(x)\n",
        "#     if shortcut.shape[-1] != filters or stride != 1:\n",
        "#         shortcut = layers.Conv2D(filters, kernel_size=1, strides=stride, padding='same')(shortcut)\n",
        "#     x = layers.add([x, shortcut])\n",
        "#     x = layers.ReLU()(x)\n",
        "#     return x"
      ]
    },
    {
      "cell_type": "code",
      "execution_count": null,
      "metadata": {
        "id": "jXaYIaI_kUBt"
      },
      "outputs": [],
      "source": [
        "# def build_resnet(input_shape=(224, 224, 3), num_classes=22, use_dropout=False):\n",
        "#     inputs = layers.Input(shape=input_shape)\n",
        "#     x = layers.Conv2D(64, kernel_size=7, strides=2, padding='same')(inputs)\n",
        "#     x = layers.BatchNormalization()(x)\n",
        "#     x = layers.ReLU()(x)\n",
        "#     x = layers.MaxPooling2D(pool_size=3, strides=2, padding='same')(x)\n",
        "#     x = residual_block(x, 64, stride=1, use_dropout=use_dropout)\n",
        "#     x = residual_block(x, 128, stride=2, use_dropout=use_dropout)\n",
        "#     x = residual_block(x, 256, stride=2, use_dropout=use_dropout)\n",
        "#     x = residual_block(x, 512, stride=2, use_dropout=use_dropout)\n",
        "#     x = layers.GlobalAveragePooling2D()(x)\n",
        "#     if use_dropout:\n",
        "#         x = layers.Dropout(0.5)(x)\n",
        "#     outputs = layers.Dense(num_classes, activation='softmax')(x)\n",
        "#     model = models.Model(inputs, outputs)\n",
        "#     return model"
      ]
    },
    {
      "cell_type": "code",
      "execution_count": null,
      "metadata": {
        "id": "IkqgWQOIkgV6"
      },
      "outputs": [],
      "source": [
        "# model = build_resnet(num_classes=22, use_dropout=True)\n",
        "# model.compile(\n",
        "#     optimizer=optimizers.Adam(learning_rate=0.001),\n",
        "#     loss='categorical_crossentropy',\n",
        "#     metrics=['accuracy']\n",
        "# )"
      ]
    },
    {
      "cell_type": "code",
      "execution_count": null,
      "metadata": {},
      "outputs": [],
      "source": [
        "base_model = ResNet50(weights='imagenet', include_top=False, input_shape=(224, 224, 3))\n",
        "base_model.trainable = True"
      ]
    },
    {
      "cell_type": "code",
      "execution_count": null,
      "metadata": {},
      "outputs": [],
      "source": [
        "x = base_model.output\n",
        "x = layers.GlobalAveragePooling2D()(x)\n",
        "x = layers.Dropout(0.5)(x)\n",
        "x = layers.Dense(256, activation='relu')(x)\n",
        "x = layers.Dropout(0.3)(x)\n",
        "predictions = layers.Dense(train_generator.num_classes, activation='softmax')(x)"
      ]
    },
    {
      "cell_type": "code",
      "execution_count": null,
      "metadata": {},
      "outputs": [],
      "source": [
        "reduce_lr = ReduceLROnPlateau(\n",
        "    monitor='val_loss',\n",
        "    factor=0.5,\n",
        "    patience=5,\n",
        "    verbose=1\n",
        ")\n",
        "\n",
        "checkpoint = ModelCheckpoint(\n",
        "    filepath='best_model.h5',\n",
        "    monitor='val_accuracy',\n",
        "    save_best_only=True,\n",
        "    verbose=1\n",
        ")\n",
        "\n",
        "early_stopping = EarlyStopping(\n",
        "    monitor='val_accuracy',\n",
        "    patience=10,\n",
        "    verbose=1,\n",
        "    restore_best_weights=True,\n",
        "    baseline=0.90\n",
        ")\n",
        "\n",
        "callbacks = [reduce_lr, checkpoint, early_stopping]"
      ]
    },
    {
      "cell_type": "code",
      "execution_count": null,
      "metadata": {},
      "outputs": [],
      "source": [
        "model = models.Model(inputs=base_model.input, outputs=predictions)\n",
        "model.compile(optimizer=optimizers.Adam(learning_rate=1e-4), loss='categorical_crossentropy', metrics=['accuracy'])"
      ]
    },
    {
      "cell_type": "code",
      "execution_count": null,
      "metadata": {},
      "outputs": [],
      "source": [
        "model.summary()"
      ]
    },
    {
      "cell_type": "code",
      "execution_count": null,
      "metadata": {
        "id": "t89_Alwrkkd1"
      },
      "outputs": [],
      "source": [
        "history = model.fit(\n",
        "    train_generator,\n",
        "    validation_data=val_generator,\n",
        "    epochs=20,\n",
        "    callbacks=callbacks\n",
        ")"
      ]
    },
    {
      "cell_type": "code",
      "execution_count": null,
      "metadata": {},
      "outputs": [],
      "source": [
        "acc = history.history['accuracy']\n",
        "val_acc = history.history['val_accuracy']\n",
        "loss = history.history['loss']\n",
        "val_loss = history.history['val_loss']\n",
        "\n",
        "epochs = range(len(acc))\n",
        "\n",
        "plt.plot(epochs, acc, 'r')\n",
        "plt.plot(epochs, val_acc, 'b')\n",
        "plt.title('Training and Validation Accuracy')\n",
        "plt.ylabel('accuracy')\n",
        "plt.xlabel('epoch')\n",
        "plt.legend(['train', 'val'], loc='upper left')\n",
        "plt.show()\n",
        "\n",
        "plt.plot(epochs, loss, 'r')\n",
        "plt.plot(epochs, val_loss, 'b')\n",
        "plt.ylabel('loss')\n",
        "plt.xlabel('epoch')\n",
        "plt.legend(['train', 'val'], loc='upper left')\n",
        "plt.title('Training and Validation Loss')\n",
        "plt.show()"
      ]
    },
    {
      "cell_type": "code",
      "execution_count": null,
      "metadata": {
        "id": "YjiiywFXkpv_"
      },
      "outputs": [],
      "source": [
        "model.save(\"resnet_model.h5\")\n",
        "print(\"Model saved as resnet_model.h5\")"
      ]
    },
    {
      "cell_type": "code",
      "execution_count": null,
      "metadata": {
        "id": "7_rVh7VRkuRE"
      },
      "outputs": [],
      "source": [
        "model = tf.keras.models.load_model(\"best_model.h5\")\n",
        "print(\"Model loaded successfully\")"
      ]
    },
    {
      "cell_type": "code",
      "execution_count": null,
      "metadata": {
        "id": "YgpKdxOJk3_R"
      },
      "outputs": [],
      "source": [
        "def predict_and_show(model, generator, class_names, num_images=5):\n",
        "    images, labels = next(generator)\n",
        "    predictions = model.predict(images[:num_images])\n",
        "    for i in range(num_images):\n",
        "        plt.imshow(images[i])\n",
        "        plt.title(f\"Predicted: {class_names[np.argmax(predictions[i])]}\\nTrue: {class_names[np.argmax(labels[i])]}\" )\n",
        "        plt.axis('off')\n",
        "        plt.show()\n",
        "\n",
        "predict_and_show(model, test_generator, classes, num_images=10)"
      ]
    },
    {
      "cell_type": "code",
      "execution_count": null,
      "metadata": {
        "id": "GTBQ-mAXlGez"
      },
      "outputs": [],
      "source": [
        "test_loss, test_accuracy = model.evaluate(test_generator)\n",
        "print(f\"Accuracy on the test set: {test_accuracy * 100:.2f}%\")"
      ]
    },
    {
      "cell_type": "code",
      "execution_count": null,
      "metadata": {},
      "outputs": [],
      "source": [
        "test_generator.reset()\n",
        "preds = model.predict(test_generator, verbose=0)\n",
        "preds = np.argmax(preds, axis=1)\n",
        "\n",
        "cm = confusion_matrix(test_generator.classes, preds)\n",
        "print(\"Confusion Matrix:\")\n",
        "print(cm)\n",
        "\n",
        "print(\"\\nClassification Report:\")\n",
        "print(classification_report(\n",
        "    y_true=test_generator.classes,\n",
        "    y_pred=preds,\n",
        "    target_names=classes,\n",
        "    digits=4\n",
        "))"
      ]
    }
  ],
  "metadata": {
    "colab": {
      "provenance": []
    },
    "kernelspec": {
      "display_name": "Python 3",
      "name": "python3"
    },
    "language_info": {
      "name": "python"
    }
  },
  "nbformat": 4,
  "nbformat_minor": 0
}
